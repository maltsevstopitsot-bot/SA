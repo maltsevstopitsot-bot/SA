{
  "nbformat": 4,
  "nbformat_minor": 0,
  "metadata": {
    "colab": {
      "provenance": []
    },
    "kernelspec": {
      "name": "python3",
      "display_name": "Python 3"
    },
    "language_info": {
      "name": "python"
    }
  },
  "cells": [
    {
      "cell_type": "markdown",
      "source": [
        "Лабораторна робота 2\n",
        "\n",
        "Варіант 11"
      ],
      "metadata": {
        "id": "haF991O29_AZ"
      }
    },
    {
      "cell_type": "code",
      "source": [
        "import pandas as pd\n",
        "import numpy as np\n",
        "import matplotlib.pyplot as plt\n",
        "import seaborn as sns\n",
        "from pathlib import Path"
      ],
      "metadata": {
        "id": "PY1h2d_K-A5F"
      },
      "execution_count": 62,
      "outputs": []
    },
    {
      "cell_type": "code",
      "source": [
        "import pandas as pd\n",
        "import requests\n",
        "\n",
        "url = \"https://en.wikipedia.org/wiki/List_of_countries_by_GDP_(nominal)\"\n",
        "\n",
        "# створюємо запит з імітацією браузера\n",
        "headers = {\"User-Agent\": \"Mozilla/5.0\"}\n",
        "response = requests.get(url, headers=headers)\n",
        "\n",
        "# зчитуємо HTML у pandas\n",
        "tables = pd.read_html(response.text)\n",
        "\n",
        "print(f\"Знайдено {len(tables)} таблиць на сторінці.\")\n",
        "gdp_table = tables[2]  # зазвичай потрібна таблиця 2 або 3\n",
        "print(gdp_table.head())\n"
      ],
      "metadata": {
        "colab": {
          "base_uri": "https://localhost:8080/"
        },
        "id": "Hwj7FNvG_O_T",
        "outputId": "a7a05266-9f23-4134-a5fc-7285f4327392"
      },
      "execution_count": 63,
      "outputs": [
        {
          "output_type": "stream",
          "name": "stdout",
          "text": [
            "Знайдено 7 таблиць на сторінці.\n",
            "  Country/Territory IMF (2025)[1][6] World Bank (2022–24)[7] United Nations (2023)[8]\n",
            "0             World        117165394               111326370                100834796\n",
            "1     United States         30615743                29184890                 27720700\n",
            "2        China[n 1]         19398577                18743803                 17794782\n",
            "3           Germany          5013574                 4659929                  4525704\n",
            "4             Japan          4279828                 4026211                  4204495\n"
          ]
        },
        {
          "output_type": "stream",
          "name": "stderr",
          "text": [
            "/tmp/ipython-input-546800522.py:11: FutureWarning: Passing literal html to 'read_html' is deprecated and will be removed in a future version. To read from a literal string, wrap it in a 'StringIO' object.\n",
            "  tables = pd.read_html(response.text)\n"
          ]
        }
      ]
    },
    {
      "cell_type": "markdown",
      "source": [
        "Завдання 1\n",
        "\n",
        "1. Вивести перших 5 рядків.\n"
      ],
      "metadata": {
        "id": "O0SfBgh5-WVP"
      }
    },
    {
      "cell_type": "code",
      "source": [
        "gdp_table.head()"
      ],
      "metadata": {
        "colab": {
          "base_uri": "https://localhost:8080/",
          "height": 206
        },
        "id": "itAWvKEEAj2g",
        "outputId": "f3683392-c8b2-4d80-9bf6-26565b7eece8"
      },
      "execution_count": 64,
      "outputs": [
        {
          "output_type": "execute_result",
          "data": {
            "text/plain": [
              "  Country/Territory IMF (2025)[1][6] World Bank (2022–24)[7] United Nations (2023)[8]\n",
              "0             World        117165394               111326370                100834796\n",
              "1     United States         30615743                29184890                 27720700\n",
              "2        China[n 1]         19398577                18743803                 17794782\n",
              "3           Germany          5013574                 4659929                  4525704\n",
              "4             Japan          4279828                 4026211                  4204495"
            ],
            "text/html": [
              "\n",
              "  <div id=\"df-e78ff46e-c2bb-4b24-af8b-b72bf91af65d\" class=\"colab-df-container\">\n",
              "    <div>\n",
              "<style scoped>\n",
              "    .dataframe tbody tr th:only-of-type {\n",
              "        vertical-align: middle;\n",
              "    }\n",
              "\n",
              "    .dataframe tbody tr th {\n",
              "        vertical-align: top;\n",
              "    }\n",
              "\n",
              "    .dataframe thead th {\n",
              "        text-align: right;\n",
              "    }\n",
              "</style>\n",
              "<table border=\"1\" class=\"dataframe\">\n",
              "  <thead>\n",
              "    <tr style=\"text-align: right;\">\n",
              "      <th></th>\n",
              "      <th>Country/Territory</th>\n",
              "      <th>IMF (2025)[1][6]</th>\n",
              "      <th>World Bank (2022–24)[7]</th>\n",
              "      <th>United Nations (2023)[8]</th>\n",
              "    </tr>\n",
              "  </thead>\n",
              "  <tbody>\n",
              "    <tr>\n",
              "      <th>0</th>\n",
              "      <td>World</td>\n",
              "      <td>117165394</td>\n",
              "      <td>111326370</td>\n",
              "      <td>100834796</td>\n",
              "    </tr>\n",
              "    <tr>\n",
              "      <th>1</th>\n",
              "      <td>United States</td>\n",
              "      <td>30615743</td>\n",
              "      <td>29184890</td>\n",
              "      <td>27720700</td>\n",
              "    </tr>\n",
              "    <tr>\n",
              "      <th>2</th>\n",
              "      <td>China[n 1]</td>\n",
              "      <td>19398577</td>\n",
              "      <td>18743803</td>\n",
              "      <td>17794782</td>\n",
              "    </tr>\n",
              "    <tr>\n",
              "      <th>3</th>\n",
              "      <td>Germany</td>\n",
              "      <td>5013574</td>\n",
              "      <td>4659929</td>\n",
              "      <td>4525704</td>\n",
              "    </tr>\n",
              "    <tr>\n",
              "      <th>4</th>\n",
              "      <td>Japan</td>\n",
              "      <td>4279828</td>\n",
              "      <td>4026211</td>\n",
              "      <td>4204495</td>\n",
              "    </tr>\n",
              "  </tbody>\n",
              "</table>\n",
              "</div>\n",
              "    <div class=\"colab-df-buttons\">\n",
              "\n",
              "  <div class=\"colab-df-container\">\n",
              "    <button class=\"colab-df-convert\" onclick=\"convertToInteractive('df-e78ff46e-c2bb-4b24-af8b-b72bf91af65d')\"\n",
              "            title=\"Convert this dataframe to an interactive table.\"\n",
              "            style=\"display:none;\">\n",
              "\n",
              "  <svg xmlns=\"http://www.w3.org/2000/svg\" height=\"24px\" viewBox=\"0 -960 960 960\">\n",
              "    <path d=\"M120-120v-720h720v720H120Zm60-500h600v-160H180v160Zm220 220h160v-160H400v160Zm0 220h160v-160H400v160ZM180-400h160v-160H180v160Zm440 0h160v-160H620v160ZM180-180h160v-160H180v160Zm440 0h160v-160H620v160Z\"/>\n",
              "  </svg>\n",
              "    </button>\n",
              "\n",
              "  <style>\n",
              "    .colab-df-container {\n",
              "      display:flex;\n",
              "      gap: 12px;\n",
              "    }\n",
              "\n",
              "    .colab-df-convert {\n",
              "      background-color: #E8F0FE;\n",
              "      border: none;\n",
              "      border-radius: 50%;\n",
              "      cursor: pointer;\n",
              "      display: none;\n",
              "      fill: #1967D2;\n",
              "      height: 32px;\n",
              "      padding: 0 0 0 0;\n",
              "      width: 32px;\n",
              "    }\n",
              "\n",
              "    .colab-df-convert:hover {\n",
              "      background-color: #E2EBFA;\n",
              "      box-shadow: 0px 1px 2px rgba(60, 64, 67, 0.3), 0px 1px 3px 1px rgba(60, 64, 67, 0.15);\n",
              "      fill: #174EA6;\n",
              "    }\n",
              "\n",
              "    .colab-df-buttons div {\n",
              "      margin-bottom: 4px;\n",
              "    }\n",
              "\n",
              "    [theme=dark] .colab-df-convert {\n",
              "      background-color: #3B4455;\n",
              "      fill: #D2E3FC;\n",
              "    }\n",
              "\n",
              "    [theme=dark] .colab-df-convert:hover {\n",
              "      background-color: #434B5C;\n",
              "      box-shadow: 0px 1px 3px 1px rgba(0, 0, 0, 0.15);\n",
              "      filter: drop-shadow(0px 1px 2px rgba(0, 0, 0, 0.3));\n",
              "      fill: #FFFFFF;\n",
              "    }\n",
              "  </style>\n",
              "\n",
              "    <script>\n",
              "      const buttonEl =\n",
              "        document.querySelector('#df-e78ff46e-c2bb-4b24-af8b-b72bf91af65d button.colab-df-convert');\n",
              "      buttonEl.style.display =\n",
              "        google.colab.kernel.accessAllowed ? 'block' : 'none';\n",
              "\n",
              "      async function convertToInteractive(key) {\n",
              "        const element = document.querySelector('#df-e78ff46e-c2bb-4b24-af8b-b72bf91af65d');\n",
              "        const dataTable =\n",
              "          await google.colab.kernel.invokeFunction('convertToInteractive',\n",
              "                                                    [key], {});\n",
              "        if (!dataTable) return;\n",
              "\n",
              "        const docLinkHtml = 'Like what you see? Visit the ' +\n",
              "          '<a target=\"_blank\" href=https://colab.research.google.com/notebooks/data_table.ipynb>data table notebook</a>'\n",
              "          + ' to learn more about interactive tables.';\n",
              "        element.innerHTML = '';\n",
              "        dataTable['output_type'] = 'display_data';\n",
              "        await google.colab.output.renderOutput(dataTable, element);\n",
              "        const docLink = document.createElement('div');\n",
              "        docLink.innerHTML = docLinkHtml;\n",
              "        element.appendChild(docLink);\n",
              "      }\n",
              "    </script>\n",
              "  </div>\n",
              "\n",
              "\n",
              "    <div id=\"df-3fe10687-4193-4bb2-ab5d-d981d299bd3f\">\n",
              "      <button class=\"colab-df-quickchart\" onclick=\"quickchart('df-3fe10687-4193-4bb2-ab5d-d981d299bd3f')\"\n",
              "                title=\"Suggest charts\"\n",
              "                style=\"display:none;\">\n",
              "\n",
              "<svg xmlns=\"http://www.w3.org/2000/svg\" height=\"24px\"viewBox=\"0 0 24 24\"\n",
              "     width=\"24px\">\n",
              "    <g>\n",
              "        <path d=\"M19 3H5c-1.1 0-2 .9-2 2v14c0 1.1.9 2 2 2h14c1.1 0 2-.9 2-2V5c0-1.1-.9-2-2-2zM9 17H7v-7h2v7zm4 0h-2V7h2v10zm4 0h-2v-4h2v4z\"/>\n",
              "    </g>\n",
              "</svg>\n",
              "      </button>\n",
              "\n",
              "<style>\n",
              "  .colab-df-quickchart {\n",
              "      --bg-color: #E8F0FE;\n",
              "      --fill-color: #1967D2;\n",
              "      --hover-bg-color: #E2EBFA;\n",
              "      --hover-fill-color: #174EA6;\n",
              "      --disabled-fill-color: #AAA;\n",
              "      --disabled-bg-color: #DDD;\n",
              "  }\n",
              "\n",
              "  [theme=dark] .colab-df-quickchart {\n",
              "      --bg-color: #3B4455;\n",
              "      --fill-color: #D2E3FC;\n",
              "      --hover-bg-color: #434B5C;\n",
              "      --hover-fill-color: #FFFFFF;\n",
              "      --disabled-bg-color: #3B4455;\n",
              "      --disabled-fill-color: #666;\n",
              "  }\n",
              "\n",
              "  .colab-df-quickchart {\n",
              "    background-color: var(--bg-color);\n",
              "    border: none;\n",
              "    border-radius: 50%;\n",
              "    cursor: pointer;\n",
              "    display: none;\n",
              "    fill: var(--fill-color);\n",
              "    height: 32px;\n",
              "    padding: 0;\n",
              "    width: 32px;\n",
              "  }\n",
              "\n",
              "  .colab-df-quickchart:hover {\n",
              "    background-color: var(--hover-bg-color);\n",
              "    box-shadow: 0 1px 2px rgba(60, 64, 67, 0.3), 0 1px 3px 1px rgba(60, 64, 67, 0.15);\n",
              "    fill: var(--button-hover-fill-color);\n",
              "  }\n",
              "\n",
              "  .colab-df-quickchart-complete:disabled,\n",
              "  .colab-df-quickchart-complete:disabled:hover {\n",
              "    background-color: var(--disabled-bg-color);\n",
              "    fill: var(--disabled-fill-color);\n",
              "    box-shadow: none;\n",
              "  }\n",
              "\n",
              "  .colab-df-spinner {\n",
              "    border: 2px solid var(--fill-color);\n",
              "    border-color: transparent;\n",
              "    border-bottom-color: var(--fill-color);\n",
              "    animation:\n",
              "      spin 1s steps(1) infinite;\n",
              "  }\n",
              "\n",
              "  @keyframes spin {\n",
              "    0% {\n",
              "      border-color: transparent;\n",
              "      border-bottom-color: var(--fill-color);\n",
              "      border-left-color: var(--fill-color);\n",
              "    }\n",
              "    20% {\n",
              "      border-color: transparent;\n",
              "      border-left-color: var(--fill-color);\n",
              "      border-top-color: var(--fill-color);\n",
              "    }\n",
              "    30% {\n",
              "      border-color: transparent;\n",
              "      border-left-color: var(--fill-color);\n",
              "      border-top-color: var(--fill-color);\n",
              "      border-right-color: var(--fill-color);\n",
              "    }\n",
              "    40% {\n",
              "      border-color: transparent;\n",
              "      border-right-color: var(--fill-color);\n",
              "      border-top-color: var(--fill-color);\n",
              "    }\n",
              "    60% {\n",
              "      border-color: transparent;\n",
              "      border-right-color: var(--fill-color);\n",
              "    }\n",
              "    80% {\n",
              "      border-color: transparent;\n",
              "      border-right-color: var(--fill-color);\n",
              "      border-bottom-color: var(--fill-color);\n",
              "    }\n",
              "    90% {\n",
              "      border-color: transparent;\n",
              "      border-bottom-color: var(--fill-color);\n",
              "    }\n",
              "  }\n",
              "</style>\n",
              "\n",
              "      <script>\n",
              "        async function quickchart(key) {\n",
              "          const quickchartButtonEl =\n",
              "            document.querySelector('#' + key + ' button');\n",
              "          quickchartButtonEl.disabled = true;  // To prevent multiple clicks.\n",
              "          quickchartButtonEl.classList.add('colab-df-spinner');\n",
              "          try {\n",
              "            const charts = await google.colab.kernel.invokeFunction(\n",
              "                'suggestCharts', [key], {});\n",
              "          } catch (error) {\n",
              "            console.error('Error during call to suggestCharts:', error);\n",
              "          }\n",
              "          quickchartButtonEl.classList.remove('colab-df-spinner');\n",
              "          quickchartButtonEl.classList.add('colab-df-quickchart-complete');\n",
              "        }\n",
              "        (() => {\n",
              "          let quickchartButtonEl =\n",
              "            document.querySelector('#df-3fe10687-4193-4bb2-ab5d-d981d299bd3f button');\n",
              "          quickchartButtonEl.style.display =\n",
              "            google.colab.kernel.accessAllowed ? 'block' : 'none';\n",
              "        })();\n",
              "      </script>\n",
              "    </div>\n",
              "    </div>\n",
              "  </div>\n"
            ],
            "application/vnd.google.colaboratory.intrinsic+json": {
              "type": "dataframe",
              "variable_name": "gdp_table",
              "summary": "{\n  \"name\": \"gdp_table\",\n  \"rows\": 222,\n  \"fields\": [\n    {\n      \"column\": \"Country/Territory\",\n      \"properties\": {\n        \"dtype\": \"string\",\n        \"num_unique_values\": 222,\n        \"samples\": [\n          \"Channel Islands\",\n          \"Cook Islands\",\n          \"Australia\"\n        ],\n        \"semantic_type\": \"\",\n        \"description\": \"\"\n      }\n    },\n    {\n      \"column\": \"IMF (2025)[1][6]\",\n      \"properties\": {\n        \"dtype\": \"string\",\n        \"num_unique_values\": 190,\n        \"samples\": [\n          \"1548\",\n          \"1129\",\n          \"30094\"\n        ],\n        \"semantic_type\": \"\",\n        \"description\": \"\"\n      }\n    },\n    {\n      \"column\": \"World Bank (2022\\u201324)[7]\",\n      \"properties\": {\n        \"dtype\": \"string\",\n        \"num_unique_values\": 211,\n        \"samples\": [\n          \"521642\",\n          \"3649\",\n          \"14953\"\n        ],\n        \"semantic_type\": \"\",\n        \"description\": \"\"\n      }\n    },\n    {\n      \"column\": \"United Nations (2023)[8]\",\n      \"properties\": {\n        \"dtype\": \"string\",\n        \"num_unique_values\": 214,\n        \"samples\": [\n          \"2008419\",\n          \"1317\",\n          \"102397\"\n        ],\n        \"semantic_type\": \"\",\n        \"description\": \"\"\n      }\n    }\n  ]\n}"
            }
          },
          "metadata": {},
          "execution_count": 64
        }
      ]
    },
    {
      "cell_type": "markdown",
      "source": [
        "2. Визначити розмір датасета.\n"
      ],
      "metadata": {
        "id": "hKIS54NxAuIh"
      }
    },
    {
      "cell_type": "code",
      "source": [
        "gdp_table.shape"
      ],
      "metadata": {
        "colab": {
          "base_uri": "https://localhost:8080/"
        },
        "id": "27FWH27NAvA_",
        "outputId": "6fcc8731-0971-415b-e072-9557d45b649f"
      },
      "execution_count": 65,
      "outputs": [
        {
          "output_type": "execute_result",
          "data": {
            "text/plain": [
              "(222, 4)"
            ]
          },
          "metadata": {},
          "execution_count": 65
        }
      ]
    },
    {
      "cell_type": "markdown",
      "source": [
        "3. Визначити оптимальну кількість стовпців.\n"
      ],
      "metadata": {
        "id": "CRc3faaOAw3D"
      }
    },
    {
      "cell_type": "code",
      "source": [
        "df_gdp = gdp_table.iloc[:, [0, 1, 2, 3]].copy()"
      ],
      "metadata": {
        "id": "yqOEGuhmAyH6"
      },
      "execution_count": 66,
      "outputs": []
    },
    {
      "cell_type": "markdown",
      "source": [
        "4. Змінити назви стовпців на більш зручні, наприклад\n",
        "Country MVF_2024 WorldBank_2023 OON_2022\n"
      ],
      "metadata": {
        "id": "KG4fiuQtBG_n"
      }
    },
    {
      "cell_type": "code",
      "source": [
        "new_columns = ['Country', 'MVF_2025', 'WorldBank_2024', 'OON_2023']\n",
        "df_gdp.columns = new_columns\n",
        "print(\"\\n Нові назви стовпців:\")\n",
        "print(df_gdp.columns.tolist())"
      ],
      "metadata": {
        "colab": {
          "base_uri": "https://localhost:8080/"
        },
        "id": "QJZ7E3aKBHaj",
        "outputId": "f2b467b9-16a4-401a-ff5c-e78cc51cd4a4"
      },
      "execution_count": 70,
      "outputs": [
        {
          "output_type": "stream",
          "name": "stdout",
          "text": [
            "\n",
            " Нові назви стовпців:\n",
            "['Country', 'MVF_2025', 'WorldBank_2024', 'OON_2023']\n"
          ]
        }
      ]
    },
    {
      "cell_type": "markdown",
      "source": [
        "5. Визначити тип даних.\n"
      ],
      "metadata": {
        "id": "LTKiFvbzBJM6"
      }
    },
    {
      "cell_type": "code",
      "source": [
        "print(\"\\n Тип даних:\")\n",
        "print(df_gdp.dtypes)"
      ],
      "metadata": {
        "colab": {
          "base_uri": "https://localhost:8080/"
        },
        "id": "kXTXR2-WBOxQ",
        "outputId": "d0242267-072f-4053-a164-126c46b36e68"
      },
      "execution_count": 71,
      "outputs": [
        {
          "output_type": "stream",
          "name": "stdout",
          "text": [
            "\n",
            " Тип даних:\n",
            "Country            object\n",
            "MVF_2025          float64\n",
            "WorldBank_2024    float64\n",
            "OON_2023          float64\n",
            "dtype: object\n"
          ]
        }
      ]
    },
    {
      "cell_type": "markdown",
      "source": [
        "6. Замініть у таблиці значення \"—\" на значення NaN. Перевірити\n",
        "наявність пропущених значень. При наявності, замінити пропущені\n",
        "значення на середнє значення"
      ],
      "metadata": {
        "id": "b-7DuTI0BQ15"
      }
    },
    {
      "cell_type": "code",
      "source": [
        "gdp_cols = ['MVF_2025', 'WorldBank_2024', 'OON_2023']\n",
        "df_gdp.replace(['—', '', ' '], np.nan, inplace=True)\n",
        "\n",
        "for col in gdp_cols:\n",
        "    df_gdp[col] = df_gdp[col].astype(str).str.replace(r'\\[.+\\]', '', regex=True)\n",
        "    df_gdp[col] = df_gdp[col].astype(str).str.replace(',', '', regex=False).astype(float)\n",
        "\n",
        "print(\"\\nНаявність пропущених значень (до заміни):\")\n",
        "print(df_gdp.isnull().sum())\n",
        "\n",
        "for col in gdp_cols:\n",
        "    mean_val = df_gdp[col].mean()\n",
        "    df_gdp[col].fillna(mean_val, inplace=True)"
      ],
      "metadata": {
        "colab": {
          "base_uri": "https://localhost:8080/"
        },
        "id": "aVjgBRwkBTCK",
        "outputId": "8b620074-78c4-4a38-b108-3fa56783a32c"
      },
      "execution_count": 72,
      "outputs": [
        {
          "output_type": "stream",
          "name": "stdout",
          "text": [
            "\n",
            "Наявність пропущених значень (до заміни):\n",
            "Country           0\n",
            "MVF_2025          0\n",
            "WorldBank_2024    0\n",
            "OON_2023          0\n",
            "dtype: int64\n"
          ]
        },
        {
          "output_type": "stream",
          "name": "stderr",
          "text": [
            "/tmp/ipython-input-890576217.py:13: FutureWarning: A value is trying to be set on a copy of a DataFrame or Series through chained assignment using an inplace method.\n",
            "The behavior will change in pandas 3.0. This inplace method will never work because the intermediate object on which we are setting values always behaves as a copy.\n",
            "\n",
            "For example, when doing 'df[col].method(value, inplace=True)', try using 'df.method({col: value}, inplace=True)' or df[col] = df[col].method(value) instead, to perform the operation inplace on the original object.\n",
            "\n",
            "\n",
            "  df_gdp[col].fillna(mean_val, inplace=True)\n"
          ]
        }
      ]
    },
    {
      "cell_type": "markdown",
      "source": [
        "7. Ще раз перевірити наявність пропущених значень.\n"
      ],
      "metadata": {
        "id": "bqbdRcSwBaI_"
      }
    },
    {
      "cell_type": "code",
      "source": [
        "print(\"\\nНаявність пропущених значень (після заміни):\")\n",
        "print(df_gdp.isnull().sum())"
      ],
      "metadata": {
        "colab": {
          "base_uri": "https://localhost:8080/"
        },
        "id": "UsfN5DhVBbNL",
        "outputId": "1fef86d5-1157-4ef4-c599-5a5436d26441"
      },
      "execution_count": 73,
      "outputs": [
        {
          "output_type": "stream",
          "name": "stdout",
          "text": [
            "\n",
            "Наявність пропущених значень (після заміни):\n",
            "Country           0\n",
            "MVF_2025          0\n",
            "WorldBank_2024    0\n",
            "OON_2023          0\n",
            "dtype: int64\n"
          ]
        }
      ]
    },
    {
      "cell_type": "markdown",
      "source": [
        "8. Перевірити наявність дублікатів. При наявності видалити дублікати.\n"
      ],
      "metadata": {
        "id": "oyxI52JqBcu6"
      }
    },
    {
      "cell_type": "code",
      "source": [
        "duplicates_count = df_gdp.duplicated().sum()\n",
        "if duplicates_count > 0:\n",
        "    df_gdp.drop_duplicates(inplace=True)\n",
        "print(f\"\\nКількість видалених дублікатів: {duplicates_count}\")"
      ],
      "metadata": {
        "colab": {
          "base_uri": "https://localhost:8080/"
        },
        "id": "N2b3CAFtBd7m",
        "outputId": "f6295c80-3124-4789-a8d6-58a637428021"
      },
      "execution_count": 74,
      "outputs": [
        {
          "output_type": "stream",
          "name": "stdout",
          "text": [
            "\n",
            "Кількість видалених дублікатів: 0\n"
          ]
        }
      ]
    },
    {
      "cell_type": "markdown",
      "source": [
        "9. Вивести описову статистику датасету describe()\n"
      ],
      "metadata": {
        "id": "y3yC6w-HBfd3"
      }
    },
    {
      "cell_type": "code",
      "source": [
        "print(\"\\nОписова статистика:\")\n",
        "print(df_gdp.describe())"
      ],
      "metadata": {
        "colab": {
          "base_uri": "https://localhost:8080/"
        },
        "id": "mQmApw1UBgk1",
        "outputId": "8b143f88-7d8f-4261-9cd0-4408e39eb79a"
      },
      "execution_count": 75,
      "outputs": [
        {
          "output_type": "stream",
          "name": "stdout",
          "text": [
            "\n",
            "Описова статистика:\n",
            "           MVF_2025  WorldBank_2024      OON_2023\n",
            "count  2.220000e+02    2.220000e+02  2.220000e+02\n",
            "mean   1.228861e+06    1.053085e+06  9.672422e+05\n",
            "std    8.210223e+06    7.812285e+06  7.109223e+06\n",
            "min    6.500000e+01    6.200000e+01  6.800000e+01\n",
            "25%    1.752200e+04    9.698750e+03  8.888000e+03\n",
            "50%    8.912300e+04    4.432300e+04  4.088750e+04\n",
            "75%    6.878628e+05    3.660632e+05  2.987810e+05\n",
            "max    1.171654e+08    1.113264e+08  1.008348e+08\n"
          ]
        }
      ]
    },
    {
      "cell_type": "code",
      "source": [
        "df_gdp = df_gdp[df_gdp['Country'].str.strip() != 'World'].copy()\n",
        "df_gdp.reset_index(drop=True, inplace=True)"
      ],
      "metadata": {
        "id": "9fct0_9xBpNh"
      },
      "execution_count": 76,
      "outputs": []
    },
    {
      "cell_type": "markdown",
      "source": [
        "10.Визначте відхилення (різницю) між показниками MVF_2024 та\n",
        "WorldBank_2023 для кожної країни. У яких країнах ці показники\n",
        "найбільше відрізняються (дати відповідт)?\n"
      ],
      "metadata": {
        "id": "08Kzi2TPBh7W"
      }
    },
    {
      "cell_type": "code",
      "source": [
        "df_gdp['MVF_WB_Difference'] = np.abs(df_gdp['MVF_2025'] - df_gdp['WorldBank_2024'])\n",
        "max_diff_country = df_gdp.loc[df_gdp['MVF_WB_Difference'].idxmax()]\n",
        "\n",
        "print(\"\\nКраїна з найбільшим відхиленням між MVF_2025 та WorldBank_2024:\")\n",
        "print(f\"Країна: {max_diff_country['Country']}\")\n",
        "print(f\"Різниця: {max_diff_country['MVF_WB_Difference']:.2f} (млн. USD)\")\n",
        "print(\"Відповідь: Ці показники найбільше відрізняються для Сполучених Штатів (або іншої найбільшої економіки), що очікувано через їхній абсолютний розмір.\")"
      ],
      "metadata": {
        "colab": {
          "base_uri": "https://localhost:8080/"
        },
        "id": "_GPjINaZBjmq",
        "outputId": "7d24a122-7ceb-4d27-e265-52899b74ffc0"
      },
      "execution_count": 77,
      "outputs": [
        {
          "output_type": "stream",
          "name": "stdout",
          "text": [
            "\n",
            "Країна з найбільшим відхиленням між MVF_2025 та WorldBank_2024:\n",
            "Країна: United States\n",
            "Різниця: 1430853.00 (млн. USD)\n",
            "Відповідь: Ці показники найбільше відрізняються для Сполучених Штатів (або іншої найбільшої економіки), що очікувано через їхній абсолютний розмір.\n"
          ]
        }
      ]
    },
    {
      "cell_type": "markdown",
      "source": [
        "11.Обчисліть кореляцію між показниками MVF_2024, WorldBank_2023 та\n",
        "OON_2022. Які пари змінних мають найвищу кореляцію?"
      ],
      "metadata": {
        "id": "4bY_-KcQBu2p"
      }
    },
    {
      "cell_type": "code",
      "source": [
        "correlation_matrix = df_gdp[gdp_cols].corr()\n",
        "print(\"\\n Матриця кореляції:\")\n",
        "print(correlation_matrix)\n",
        "print(\"Відповідь: Усі пари змінних мають *адзвичайно високу кореляцію (близько 1.0), що є типовим для послідовних макроекономічних показників.\")"
      ],
      "metadata": {
        "colab": {
          "base_uri": "https://localhost:8080/"
        },
        "id": "N5lnOhEiBvRZ",
        "outputId": "8197cf06-f441-465b-f108-6c4859dd0500"
      },
      "execution_count": 78,
      "outputs": [
        {
          "output_type": "stream",
          "name": "stdout",
          "text": [
            "\n",
            " Матриця кореляції:\n",
            "                MVF_2025  WorldBank_2024  OON_2023\n",
            "MVF_2025        1.000000        0.987399  0.988831\n",
            "WorldBank_2024  0.987399        1.000000  0.992150\n",
            "OON_2023        0.988831        0.992150  1.000000\n",
            "Відповідь: Усі пари змінних мають *адзвичайно високу кореляцію (близько 1.0), що є типовим для послідовних макроекономічних показників.\n"
          ]
        }
      ]
    },
    {
      "cell_type": "markdown",
      "source": [
        "12.Обчисліть середнє значення для кожного стовпця (MVF_2024,\n",
        "WorldBank_2023, OON_2022). Як це середнє значення змінюється між\n",
        "роками?\n"
      ],
      "metadata": {
        "id": "AUSviwF5B3Lk"
      }
    },
    {
      "cell_type": "code",
      "source": [
        "mean_gdp_by_year = df_gdp[gdp_cols].mean()\n",
        "print(\"\\nСереднє значення ВВП за роками:\")\n",
        "print(mean_gdp_by_year)\n",
        "print(\"Відповідь: Середнє значення зростає з 2023 до 2025 року, що вказує на загальне світове економічне зростання.\")"
      ],
      "metadata": {
        "colab": {
          "base_uri": "https://localhost:8080/"
        },
        "id": "M_GpLjurB45X",
        "outputId": "e1896602-9b90-49d4-fb82-d6d9dd2bc3ff"
      },
      "execution_count": 79,
      "outputs": [
        {
          "output_type": "stream",
          "name": "stdout",
          "text": [
            "\n",
            "Середнє значення ВВП за роками:\n",
            "MVF_2025          704261.583377\n",
            "WorldBank_2024    554111.266322\n",
            "OON_2023          515352.789880\n",
            "dtype: float64\n",
            "Відповідь: Середнє значення зростає з 2023 до 2025 року, що вказує на загальне світове економічне зростання.\n"
          ]
        }
      ]
    },
    {
      "cell_type": "markdown",
      "source": [
        "13.Обчисліть стандартне відхилення показників для кожної країни. Яка\n",
        "країна має найвищу варіативність у показниках між роками?"
      ],
      "metadata": {
        "id": "DxgmT-0YB9tA"
      }
    },
    {
      "cell_type": "code",
      "source": [
        "df_gdp['Std_Dev'] = df_gdp[gdp_cols].T.std()\n",
        "max_var_country = df_gdp.loc[df_gdp['Std_Dev'].idxmax()]\n",
        "\n",
        "print(\"\\nКраїна з найвищою варіативністю у показниках (між роками):\")\n",
        "print(f\"Країна: {max_var_country['Country']}\")\n",
        "print(f\"Стандартне відхилення: {max_var_country['Std_Dev']:.2f}\")\n",
        "print(\"Відповідь: Країна з найвищою варіативністю — це найбільша економіка (США), оскільки абсолютні коливання в ній найвищі.\")"
      ],
      "metadata": {
        "colab": {
          "base_uri": "https://localhost:8080/"
        },
        "id": "_JTDRVF3B-CX",
        "outputId": "e30bc412-5815-4cae-ec18-b3d16fce018e"
      },
      "execution_count": 80,
      "outputs": [
        {
          "output_type": "stream",
          "name": "stdout",
          "text": [
            "\n",
            "Країна з найвищою варіативністю у показниках (між роками):\n",
            "Країна: United States\n",
            "Стандартне відхилення: 1447553.49\n",
            "Відповідь: Країна з найвищою варіативністю — це найбільша економіка (США), оскільки абсолютні коливання в ній найвищі.\n"
          ]
        }
      ]
    },
    {
      "cell_type": "markdown",
      "source": [
        "14.Визначення країни з найвищим та найнижчим показниками: Знайдіть\n",
        "країну з найвищим та найнижчим показниками у кожному з років\n",
        "(MVF_2024, WorldBank_2023, OON_2022)."
      ],
      "metadata": {
        "id": "AFtvYJmuCBwu"
      }
    },
    {
      "cell_type": "code",
      "source": [
        "print(\"\\n Країни з найвищим та найнижчим показниками:\")\n",
        "for col in gdp_cols:\n",
        "    max_country = df_gdp.loc[df_gdp[col].idxmax(), 'Country']\n",
        "    min_country = df_gdp.loc[df_gdp[col].idxmin(), 'Country']\n",
        "    print(f\"  {col}: Найвищий - {max_country}, Найнижчий - {min_country}\")"
      ],
      "metadata": {
        "colab": {
          "base_uri": "https://localhost:8080/"
        },
        "id": "0jmuAxt8CEGC",
        "outputId": "05649fba-ed25-43a7-b41c-d890ff66c16e"
      },
      "execution_count": 82,
      "outputs": [
        {
          "output_type": "stream",
          "name": "stdout",
          "text": [
            "\n",
            " Країни з найвищим та найнижчим показниками:\n",
            "  MVF_2025: Найвищий - United States, Найнижчий - Tuvalu\n",
            "  WorldBank_2024: Найвищий - United States, Найнижчий - Tuvalu\n",
            "  OON_2023: Найвищий - United States, Найнижчий - Tuvalu\n"
          ]
        }
      ]
    },
    {
      "cell_type": "markdown",
      "source": [
        "15.Побудуйте гістограму для розподілу показників MVF_2024 серед всіх\n",
        "країн. Який вигляд має розподіл? Чи є країни, що виділяються?"
      ],
      "metadata": {
        "id": "pkBlG57vCJK2"
      }
    },
    {
      "cell_type": "code",
      "source": [
        "plt.figure(figsize=(12, 7))\n",
        "sns.histplot(df_gdp['MVF_2025'] / 1e6, bins=50, kde=True)\n",
        "plt.title('Розподіл показників ВВП (MVF_2025)')\n",
        "plt.xlabel('ВВП (млрд. USD)')\n",
        "plt.ylabel('Кількість країн')\n",
        "plt.show()"
      ],
      "metadata": {
        "colab": {
          "base_uri": "https://localhost:8080/",
          "height": 641
        },
        "id": "ryKGo4AbCKub",
        "outputId": "06665a3c-e149-4c77-b8c3-01624b4662b2"
      },
      "execution_count": 83,
      "outputs": [
        {
          "output_type": "display_data",
          "data": {
            "text/plain": [
              "<Figure size 1200x700 with 1 Axes>"
            ],
            "image/png": "[encoded data removed]"
          },
          "metadata": {}
        }
      ]
    },
    {
      "cell_type": "markdown",
      "source": [
        "16.Розрахуйте частку кожної країни в загальному значенні для кожного\n",
        "року (MVF_2024, WorldBank_2023, OON_2022). Як змінюються частки\n",
        "країн з часом (дати відповідь)?"
      ],
      "metadata": {
        "id": "-6mEW5bvCX18"
      }
    },
    {
      "cell_type": "code",
      "source": [
        "df_gdp_shares = df_gdp.set_index('Country')[gdp_cols]\n",
        "total_gdp = df_gdp_shares.sum()\n",
        "df_gdp_shares = df_gdp_shares / total_gdp * 100\n",
        "\n",
        "print(\"\\nЧастки найбільших економік у загальному ВВП (у %):\")\n",
        "print(df_gdp_shares.sort_values(by='MVF_2025', ascending=False).head(5))\n",
        "print(\"Відповідь: Частки найбільших країн залишаються домінантними і відносно стабільними протягом років, оскільки економічна перевага зберігається.\")"
      ],
      "metadata": {
        "colab": {
          "base_uri": "https://localhost:8080/"
        },
        "id": "jye9zEfiCYL7",
        "outputId": "2f8c056b-5aac-428e-c75e-08018e223da7"
      },
      "execution_count": 84,
      "outputs": [
        {
          "output_type": "stream",
          "name": "stdout",
          "text": [
            "\n",
            "Частки найбільших економік у загальному ВВП (у %):\n",
            "                MVF_2025  WorldBank_2024   OON_2023\n",
            "Country                                            \n",
            "United States  19.670642       23.832456  24.339255\n",
            "China[n 1]     12.463603       15.306238  15.624127\n",
            "Germany         3.221226        3.805310   3.973647\n",
            "Japan           2.749793        3.287814   3.691620\n",
            "India           2.650453        3.195109   3.139595\n",
            "Відповідь: Частки найбільших країн залишаються домінантними і відносно стабільними протягом років, оскільки економічна перевага зберігається.\n"
          ]
        }
      ]
    },
    {
      "cell_type": "markdown",
      "source": [
        "17.Візуалізуйте зміни в показниках для кожної країни за три роки на\n",
        "графіку. Які країни показують стабільне зростання або спад (дати\n",
        "відповідь)?"
      ],
      "metadata": {
        "id": "mawyqKEtCc8V"
      }
    },
    {
      "cell_type": "code",
      "source": [
        "top_10_countries = df_gdp.sort_values(by='MVF_2025', ascending=False).head(10)['Country'].tolist()\n",
        "df_plot = df_gdp[df_gdp['Country'].isin(top_10_countries)].set_index('Country')\n",
        "\n",
        "plt.figure(figsize=(12, 7))\n",
        "df_plot[gdp_cols].T.plot(ax=plt.gca(), marker='o')\n",
        "plt.title('Динаміка ВВП для Топ-10 країн')\n",
        "plt.xlabel('Рік')\n",
        "plt.ylabel('ВВП (млн. USD)')\n",
        "plt.xticks(ticks=[0, 1, 2], labels=['OON_2023', 'WorldBank_2024', 'MVF_2025'])\n",
        "plt.grid(axis='y', linestyle='--')\n",
        "plt.legend(title='Країна', bbox_to_anchor=(1.05, 1), loc='upper left')\n",
        "plt.show()\n",
        "\n",
        "print(\"\\nКраїни, що показують стабільне зростання або спад:\")\n",
        "print(\"Відповідь: Більшість топ-10 країн демонструють стабільне зростання ВВП. Значних стабільних спадів не спостерігається.\")"
      ],
      "metadata": {
        "colab": {
          "base_uri": "https://localhost:8080/",
          "height": 696
        },
        "id": "f7gHi_wQCdLz",
        "outputId": "6ea7007c-46fe-4ebc-83b8-7197df39cee3"
      },
      "execution_count": 85,
      "outputs": [
        {
          "output_type": "display_data",
          "data": {
            "text/plain": [
              "<Figure size 1200x700 with 1 Axes>"
            ],
            "image/png": "[encoded data removed]"
          },
          "metadata": {}
        },
        {
          "output_type": "stream",
          "name": "stdout",
          "text": [
            "\n",
            "Країни, що показують стабільне зростання або спад:\n",
            "Відповідь: Більшість топ-10 країн демонструють стабільне зростання ВВП. Значних стабільних спадів не спостерігається.\n"
          ]
        }
      ]
    },
    {
      "cell_type": "markdown",
      "source": [
        "Висновок:  Надійність ВВП за 2023–2025 висока ($\\approx 1.0$) з глобальним зростанням. Розподіл сильно асиметричний: США та Китай — домінантні викиди зі стабільними частками та найвищою абсолютною варіативністю."
      ],
      "metadata": {
        "id": "Wph4rfrJFCTV"
      }
    },
    {
      "cell_type": "markdown",
      "source": [
        "Завдання 2\n",
        "\n",
        "Завантажити датасет Титанік з Kaggle (або\n",
        "використовуйте вже завантажений файл titanic.csv)\n",
        "Виконати попередній аналіз даних.\n",
        "\n"
      ],
      "metadata": {
        "id": "_xY1fXaXHSDk"
      }
    },
    {
      "cell_type": "code",
      "source": [
        "import pandas as pd\n",
        "import numpy as np\n",
        "import matplotlib.pyplot as plt\n",
        "import seaborn as sns"
      ],
      "metadata": {
        "id": "-V5TiqcnHUQ6"
      },
      "execution_count": 86,
      "outputs": []
    },
    {
      "cell_type": "code",
      "source": [
        "try:\n",
        "    df_titanic = pd.read_csv('titanic.csv')\n",
        "except FileNotFoundError:\n",
        "    df_titanic = sns.load_dataset('titanic')"
      ],
      "metadata": {
        "id": "TEHcS7vRHd25"
      },
      "execution_count": 87,
      "outputs": []
    },
    {
      "cell_type": "markdown",
      "source": [
        "1. Вивести перших 5 рядків.\n"
      ],
      "metadata": {
        "id": "EoglnXcMHgyE"
      }
    },
    {
      "cell_type": "code",
      "source": [
        "print(\" Перші 5 рядків:\")\n",
        "print(df_titanic.head())"
      ],
      "metadata": {
        "colab": {
          "base_uri": "https://localhost:8080/"
        },
        "id": "tyqvzpX1HhLX",
        "outputId": "dd17fe64-b71c-41f0-ab85-3c80a2f9783a"
      },
      "execution_count": 88,
      "outputs": [
        {
          "output_type": "stream",
          "name": "stdout",
          "text": [
            "1. Перші 5 рядків:\n",
            "   survived  pclass     sex   age  sibsp  parch     fare embarked  class    who  adult_male deck  embark_town alive  \\\n",
            "0         0       3    male  22.0      1      0   7.2500        S  Third    man        True  NaN  Southampton    no   \n",
            "1         1       1  female  38.0      1      0  71.2833        C  First  woman       False    C    Cherbourg   yes   \n",
            "2         1       3  female  26.0      0      0   7.9250        S  Third  woman       False  NaN  Southampton   yes   \n",
            "3         1       1  female  35.0      1      0  53.1000        S  First  woman       False    C  Southampton   yes   \n",
            "4         0       3    male  35.0      0      0   8.0500        S  Third    man        True  NaN  Southampton    no   \n",
            "\n",
            "   alone  \n",
            "0  False  \n",
            "1  False  \n",
            "2   True  \n",
            "3  False  \n",
            "4   True  \n"
          ]
        }
      ]
    },
    {
      "cell_type": "markdown",
      "source": [
        "2. Визначити розмір датасета."
      ],
      "metadata": {
        "id": "cNZj-aX0HilA"
      }
    },
    {
      "cell_type": "code",
      "source": [
        "print(\"\\n Розмір датасету:\")\n",
        "print(df_titanic.shape)"
      ],
      "metadata": {
        "colab": {
          "base_uri": "https://localhost:8080/"
        },
        "id": "S6sMBTffHjwo",
        "outputId": "b4561103-3e73-4a7c-fea3-b24de813041f"
      },
      "execution_count": 91,
      "outputs": [
        {
          "output_type": "stream",
          "name": "stdout",
          "text": [
            "\n",
            " Розмір датасету:\n",
            "(891, 15)\n"
          ]
        }
      ]
    },
    {
      "cell_type": "markdown",
      "source": [
        "3. Визначити тип даних."
      ],
      "metadata": {
        "id": "Oei_DrTPHkwM"
      }
    },
    {
      "cell_type": "code",
      "source": [
        "print(\"\\n Тип даних:\")\n",
        "print(df_titanic.dtypes)"
      ],
      "metadata": {
        "colab": {
          "base_uri": "https://localhost:8080/"
        },
        "id": "poERuvNVHlhT",
        "outputId": "ba1036a2-ffe4-4b0d-822a-80fad92a517b"
      },
      "execution_count": 92,
      "outputs": [
        {
          "output_type": "stream",
          "name": "stdout",
          "text": [
            "\n",
            " Тип даних:\n",
            "survived          int64\n",
            "pclass            int64\n",
            "sex              object\n",
            "age             float64\n",
            "sibsp             int64\n",
            "parch             int64\n",
            "fare            float64\n",
            "embarked         object\n",
            "class          category\n",
            "who              object\n",
            "adult_male         bool\n",
            "deck           category\n",
            "embark_town      object\n",
            "alive            object\n",
            "alone              bool\n",
            "dtype: object\n"
          ]
        }
      ]
    },
    {
      "cell_type": "markdown",
      "source": [
        "4. Визначити наявність пропущених значень."
      ],
      "metadata": {
        "id": "2Qo3Ux4mH6u-"
      }
    },
    {
      "cell_type": "code",
      "source": [
        "\n",
        "print(\"\\nНаявність пропущених значень (до заміни):\")\n",
        "print(df_titanic.isnull().sum())"
      ],
      "metadata": {
        "colab": {
          "base_uri": "https://localhost:8080/"
        },
        "id": "lUCysJ0XH8z3",
        "outputId": "82984647-5491-4b18-deaf-d989d482cc3a"
      },
      "execution_count": 95,
      "outputs": [
        {
          "output_type": "stream",
          "name": "stdout",
          "text": [
            "\n",
            "Наявність пропущених значень (до заміни):\n",
            "survived      0\n",
            "pclass        0\n",
            "sex           0\n",
            "age         177\n",
            "fare          0\n",
            "dtype: int64\n"
          ]
        }
      ]
    },
    {
      "cell_type": "markdown",
      "source": [
        "5. Ще раз перевірити наявність пропущених значень."
      ],
      "metadata": {
        "id": "5A10QPJzIBBq"
      }
    },
    {
      "cell_type": "code",
      "source": [
        "print(\"\\n Наявність пропущених значень (після заміни):\")\n",
        "print(df_titanic.isnull().sum())"
      ],
      "metadata": {
        "colab": {
          "base_uri": "https://localhost:8080/"
        },
        "id": "6sf5BhYJICpc",
        "outputId": "ec6ca1a7-9c8f-4fd9-8433-542090c35e5e"
      },
      "execution_count": 96,
      "outputs": [
        {
          "output_type": "stream",
          "name": "stdout",
          "text": [
            "\n",
            " Наявність пропущених значень (після заміни):\n",
            "survived      0\n",
            "pclass        0\n",
            "sex           0\n",
            "age         177\n",
            "fare          0\n",
            "dtype: int64\n"
          ]
        }
      ]
    },
    {
      "cell_type": "markdown",
      "source": [
        "6. Перевірити наявність дублікатів та видалити."
      ],
      "metadata": {
        "id": "H3iZ_ju7IFBz"
      }
    },
    {
      "cell_type": "code",
      "source": [
        "duplicates_count = df_titanic.duplicated().sum()\n",
        "if duplicates_count > 0:\n",
        "    df_titanic.drop_duplicates(inplace=True)\n",
        "print(f\"\\n6. Кількість видалених дублікатів: {duplicates_count}\")"
      ],
      "metadata": {
        "colab": {
          "base_uri": "https://localhost:8080/"
        },
        "id": "sFj_EHnYIG5S",
        "outputId": "7c5ecc1b-f4be-462b-f246-20e54df083a4"
      },
      "execution_count": 97,
      "outputs": [
        {
          "output_type": "stream",
          "name": "stdout",
          "text": [
            "\n",
            "6. Кількість видалених дублікатів: 123\n"
          ]
        }
      ]
    },
    {
      "cell_type": "markdown",
      "source": [
        "7. Вивести описову статистику."
      ],
      "metadata": {
        "id": "DGSxgHuIIITr"
      }
    },
    {
      "cell_type": "code",
      "source": [
        "print(\"\\n Описова статистика:\")\n",
        "print(df_titanic.describe())"
      ],
      "metadata": {
        "colab": {
          "base_uri": "https://localhost:8080/"
        },
        "id": "U7SgwQNQIJLM",
        "outputId": "b0449fd2-f512-4f50-d45a-b5a0b2b3aa0a"
      },
      "execution_count": 98,
      "outputs": [
        {
          "output_type": "stream",
          "name": "stdout",
          "text": [
            "\n",
            " Описова статистика:\n",
            "         survived      pclass         age        fare\n",
            "count  768.000000  768.000000  670.000000  768.000000\n",
            "mean     0.415365    2.238281   29.824507   35.068885\n",
            "std      0.493106    0.857055   14.746846   52.587085\n",
            "min      0.000000    1.000000    0.420000    0.000000\n",
            "25%      0.000000    1.000000   20.000000    8.050000\n",
            "50%      0.000000    3.000000   28.250000   16.050000\n",
            "75%      1.000000    3.000000   39.000000   34.375000\n",
            "max      1.000000    3.000000   80.000000  512.329200\n"
          ]
        }
      ]
    },
    {
      "cell_type": "markdown",
      "source": [
        "8. Видалити стовпчик Cabin."
      ],
      "metadata": {
        "id": "QjVrHoEKHqcp"
      }
    },
    {
      "cell_type": "code",
      "source": [
        "if 'cabin' in df_titanic.columns:\n",
        "    df_titanic.drop('cabin', axis=1, inplace=True)\n",
        "elif 'Cabin' in df_titanic.columns:\n",
        "    df_titanic.drop('Cabin', axis=1, inplace=True)"
      ],
      "metadata": {
        "id": "NueQenBOHqyV"
      },
      "execution_count": 99,
      "outputs": []
    },
    {
      "cell_type": "markdown",
      "source": [
        "9. Сформувати датасет з обраними стовпцями."
      ],
      "metadata": {
        "id": "UlpS1QQNHsZl"
      }
    },
    {
      "cell_type": "code",
      "source": [
        "columns_to_keep = ['survived', 'pclass', 'sex', 'age', 'fare']\n",
        "df_titanic = df_titanic[columns_to_keep].copy()"
      ],
      "metadata": {
        "id": "NbO2KK6OHtLY"
      },
      "execution_count": 100,
      "outputs": []
    },
    {
      "cell_type": "markdown",
      "source": [
        "10. Замінити бінарні ознаки (Sex) на 0 і 1."
      ],
      "metadata": {
        "id": "nW-ynMCUHuQh"
      }
    },
    {
      "cell_type": "code",
      "source": [
        "df_titanic['sex'] = df_titanic['sex'].map({'male': 0, 'female': 1})"
      ],
      "metadata": {
        "id": "Nqa8U4NOIODZ"
      },
      "execution_count": 101,
      "outputs": []
    },
    {
      "cell_type": "markdown",
      "source": [
        "11. Ще раз перевірити кількість пропущених даних."
      ],
      "metadata": {
        "id": "ohNvMeA3IP53"
      }
    },
    {
      "cell_type": "code",
      "source": [
        "print(\"\\nКількість пропущених значень (фінальна перевірка):\", df_titanic.isnull().sum().sum())"
      ],
      "metadata": {
        "colab": {
          "base_uri": "https://localhost:8080/"
        },
        "id": "cU7uze3tIQKZ",
        "outputId": "ced9b8cf-4c11-4467-93e3-556aa0d67050"
      },
      "execution_count": 102,
      "outputs": [
        {
          "output_type": "stream",
          "name": "stdout",
          "text": [
            "\n",
            "Кількість пропущених значень (фінальна перевірка): 98\n"
          ]
        }
      ]
    },
    {
      "cell_type": "markdown",
      "source": [
        "12. Вивести 5 перших рядків."
      ],
      "metadata": {
        "id": "GNxi_rbNISPG"
      }
    },
    {
      "cell_type": "code",
      "source": [
        "print(\"\\n5 перших рядків:\")\n",
        "print(df_titanic.head())"
      ],
      "metadata": {
        "colab": {
          "base_uri": "https://localhost:8080/"
        },
        "id": "ubpIYHRsIT6L",
        "outputId": "0d52e486-286c-498c-d07c-56b1f2f65ff6"
      },
      "execution_count": 103,
      "outputs": [
        {
          "output_type": "stream",
          "name": "stdout",
          "text": [
            "\n",
            "5 перших рядків:\n",
            "   survived  pclass  sex   age     fare\n",
            "0         0       3    0  22.0   7.2500\n",
            "1         1       1    1  38.0  71.2833\n",
            "2         1       3    1  26.0   7.9250\n",
            "3         1       1    1  35.0  53.1000\n",
            "4         0       3    0  35.0   8.0500\n"
          ]
        }
      ]
    },
    {
      "cell_type": "markdown",
      "source": [
        "13. Вивести 5 останніх рядків."
      ],
      "metadata": {
        "id": "zD37sTU8IWfa"
      }
    },
    {
      "cell_type": "code",
      "source": [
        "print(\"\\n 5 останніх рядків:\")\n",
        "print(df_titanic.tail())"
      ],
      "metadata": {
        "colab": {
          "base_uri": "https://localhost:8080/"
        },
        "id": "JdqsD6YgIXNt",
        "outputId": "07d7595d-08a0-40d6-e6a0-d3db49f8c1b7"
      },
      "execution_count": 104,
      "outputs": [
        {
          "output_type": "stream",
          "name": "stdout",
          "text": [
            "\n",
            " 5 останніх рядків:\n",
            "     survived  pclass  sex   age    fare\n",
            "885         0       3    1  39.0  29.125\n",
            "887         1       1    1  19.0  30.000\n",
            "888         0       3    1   NaN  23.450\n",
            "889         1       1    0  26.0  30.000\n",
            "890         0       3    0  32.0   7.750\n"
          ]
        }
      ]
    },
    {
      "cell_type": "markdown",
      "source": [
        "14. Аналіз виживання залежно від статі."
      ],
      "metadata": {
        "id": "a5CDgjWjIZHD"
      }
    },
    {
      "cell_type": "code",
      "source": [
        "survival_by_sex = df_titanic.groupby('sex')['survived'].mean() * 100\n",
        "print(\"\\n Відсоток виживання за статтю (0=Male, 1=Female):\")\n",
        "print(survival_by_sex)\n",
        "print(\"Відповідь: Так, жінки мали значно вищий відсоток виживання.\")"
      ],
      "metadata": {
        "colab": {
          "base_uri": "https://localhost:8080/"
        },
        "id": "Buii5Vp5IaNx",
        "outputId": "f2487c41-3e3d-49d6-bf61-e9ef67756fb9"
      },
      "execution_count": 106,
      "outputs": [
        {
          "output_type": "stream",
          "name": "stdout",
          "text": [
            "\n",
            " Відсоток виживання за статтю (0=Male, 1=Female):\n",
            "sex\n",
            "0    22.083333\n",
            "1    73.958333\n",
            "Name: survived, dtype: float64\n",
            "Відповідь: Так, жінки мали значно вищий відсоток виживання.\n"
          ]
        }
      ]
    },
    {
      "cell_type": "markdown",
      "source": [
        "15. Відсоток виживання для кожного класу (Pclass)."
      ],
      "metadata": {
        "id": "fDSgOln_IcwI"
      }
    },
    {
      "cell_type": "code",
      "source": [
        "survival_by_pclass = df_titanic.groupby('pclass')['survived'].mean() * 100\n",
        "print(\"\\n Відсоток виживання за класом (Pclass):\")\n",
        "print(survival_by_pclass)\n",
        "print(f\"Відповідь:1-й класмав найвищий рівень виживання ({survival_by_pclass.max():.2f}%).\")"
      ],
      "metadata": {
        "colab": {
          "base_uri": "https://localhost:8080/"
        },
        "id": "IW5iDeBVIdyd",
        "outputId": "7f356340-4b1f-4ab3-c3c9-790eb85eaa4c"
      },
      "execution_count": 107,
      "outputs": [
        {
          "output_type": "stream",
          "name": "stdout",
          "text": [
            "\n",
            " Відсоток виживання за класом (Pclass):\n",
            "pclass\n",
            "1    63.679245\n",
            "2    50.931677\n",
            "3    25.822785\n",
            "Name: survived, dtype: float64\n",
            "Відповідь:1-й класмав найвищий рівень виживання (63.68%).\n"
          ]
        }
      ]
    },
    {
      "cell_type": "markdown",
      "source": [
        "16. Середній вік тих, хто вижив, і тих, хто не вижив."
      ],
      "metadata": {
        "id": "mg7E6AR9IjTT"
      }
    },
    {
      "cell_type": "code",
      "source": [
        "mean_age_survival = df_titanic.groupby('survived')['age'].mean()\n",
        "print(\"\\nСередній вік за статусом виживання (0=Did not survive, 1=Survived):\")\n",
        "print(mean_age_survival)\n",
        "print(\"Відповідь: Так, вік впливає. Ті, хто вижив, були в середньому трохи молодші.\")"
      ],
      "metadata": {
        "colab": {
          "base_uri": "https://localhost:8080/"
        },
        "id": "QeuKiCuHIkQK",
        "outputId": "2dd0cad1-a18c-4fb5-b8f5-d0a3cb1533f0"
      },
      "execution_count": 108,
      "outputs": [
        {
          "output_type": "stream",
          "name": "stdout",
          "text": [
            "\n",
            "Середній вік за статусом виживання (0=Did not survive, 1=Survived):\n",
            "survived\n",
            "0    30.857326\n",
            "1    28.394733\n",
            "Name: age, dtype: float64\n",
            "Відповідь: Так, вік впливає. Ті, хто вижив, були в середньому трохи молодші.\n"
          ]
        }
      ]
    },
    {
      "cell_type": "markdown",
      "source": [
        "17. Розподіл пасажирів на групи за рівнями тарифів (Fare)."
      ],
      "metadata": {
        "id": "b3-aF1YMInGW"
      }
    },
    {
      "cell_type": "code",
      "source": [
        "fare_bins = pd.cut(df_titanic['fare'], bins=[-1, 10, 30, 100, df_titanic['fare'].max()], labels=['Low', 'Medium', 'High', 'Very High'])\n",
        "survival_by_fare = df_titanic.groupby(fare_bins)['survived'].mean() * 100\n",
        "print(\"\\n Рівень виживання за групами тарифів:\")\n",
        "print(survival_by_fare)\n",
        "print(\"Відповідь: Тариф впливав. Пасажири з вищими тарифами мали значно вищий рівень виживання.\")"
      ],
      "metadata": {
        "colab": {
          "base_uri": "https://localhost:8080/"
        },
        "id": "5uw_y6veIocl",
        "outputId": "bebfae5d-6701-44e2-892a-ce6764612065"
      },
      "execution_count": 109,
      "outputs": [
        {
          "output_type": "stream",
          "name": "stdout",
          "text": [
            "\n",
            " Рівень виживання за групами тарифів:\n",
            "fare\n",
            "Low          22.834646\n",
            "Medium       44.290657\n",
            "High         54.651163\n",
            "Very High    73.584906\n",
            "Name: survived, dtype: float64\n",
            "Відповідь: Тариф впливав. Пасажири з вищими тарифами мали значно вищий рівень виживання.\n"
          ]
        },
        {
          "output_type": "stream",
          "name": "stderr",
          "text": [
            "/tmp/ipython-input-539606937.py:2: FutureWarning: The default of observed=False is deprecated and will be changed to True in a future version of pandas. Pass observed=False to retain current behavior or observed=True to adopt the future default and silence this warning.\n",
            "  survival_by_fare = df_titanic.groupby(fare_bins)['survived'].mean() * 100\n"
          ]
        }
      ]
    },
    {
      "cell_type": "markdown",
      "source": [
        "18. Середній тариф (Fare) для кожного класу (Pclass)."
      ],
      "metadata": {
        "id": "7GpOvydvIrN_"
      }
    },
    {
      "cell_type": "code",
      "source": [
        "mean_fare_by_pclass = df_titanic.groupby('pclass')['fare'].mean()\n",
        "print(\"\\n Середній тариф за класом (Pclass):\")\n",
        "print(mean_fare_by_pclass)\n",
        "print(\"Відповідь: Так, існує значна різниця. Тариф 1-го класу у багато разів вищий, ніж 2-го та 3-го.\")"
      ],
      "metadata": {
        "colab": {
          "base_uri": "https://localhost:8080/"
        },
        "id": "mglKcrrHIsDQ",
        "outputId": "2b30f0c7-2c70-4d1a-e9ca-495285e57430"
      },
      "execution_count": 110,
      "outputs": [
        {
          "output_type": "stream",
          "name": "stdout",
          "text": [
            "\n",
            " Середній тариф за класом (Pclass):\n",
            "pclass\n",
            "1    85.159631\n",
            "2    21.517650\n",
            "3    13.708153\n",
            "Name: fare, dtype: float64\n",
            "Відповідь: Так, існує значна різниця. Тариф 1-го класу у багато разів вищий, ніж 2-го та 3-го.\n"
          ]
        }
      ]
    },
    {
      "cell_type": "markdown",
      "source": [
        "19. Середній вік пасажирів для кожного класу (Pclass)."
      ],
      "metadata": {
        "id": "DWakMAN1IuzF"
      }
    },
    {
      "cell_type": "code",
      "source": [
        "mean_age_by_pclass = df_titanic.groupby('pclass')['age'].mean()\n",
        "print(\"\\nСередній вік за класом (Pclass):\")\n",
        "print(mean_age_by_pclass)\n",
        "print(\"Відповідь: Вік пасажирів спадає від 1-го (найстарший) до 3-го класу (наймолодший).\")"
      ],
      "metadata": {
        "colab": {
          "base_uri": "https://localhost:8080/"
        },
        "id": "JbmggDUuIvyF",
        "outputId": "495d3538-f9c9-47ec-cefc-ebf7094edbfa"
      },
      "execution_count": 111,
      "outputs": [
        {
          "output_type": "stream",
          "name": "stdout",
          "text": [
            "\n",
            "Середній вік за класом (Pclass):\n",
            "pclass\n",
            "1    38.181630\n",
            "2    29.831161\n",
            "3    25.175740\n",
            "Name: age, dtype: float64\n",
            "Відповідь: Вік пасажирів спадає від 1-го (найстарший) до 3-го класу (наймолодший).\n"
          ]
        }
      ]
    },
    {
      "cell_type": "markdown",
      "source": [
        "20. Побудуйте гістограму розподілу віку."
      ],
      "metadata": {
        "id": "vzfepUmUIyt7"
      }
    },
    {
      "cell_type": "code",
      "source": [
        "plt.figure(figsize=(10, 6))\n",
        "sns.histplot(df_titanic[df_titanic['survived'] == 1]['age'], kde=True, label='Вижив (Survived=1)', color='green', alpha=0.6)\n",
        "sns.histplot(df_titanic[df_titanic['survived'] == 0]['age'], kde=True, label='Не вижив (Survived=0)', color='red', alpha=0.6)\n",
        "plt.title('Розподіл віку за статусом виживання')\n",
        "plt.xlabel('Вік')\n",
        "plt.ylabel('Кількість пасажирів')\n",
        "plt.legend()\n",
        "plt.show()\n",
        "print(\"\\n Видимі відмінності у вікових групах:\")\n",
        "print(\"Відповідь: Так, частка дітей (вік < 10) вища серед тих, хто вижив. Середній вік (20-40) переважає серед тих, хто не вижив.\")"
      ],
      "metadata": {
        "colab": {
          "base_uri": "https://localhost:8080/",
          "height": 619
        },
        "id": "TjjpIlj1IzUi",
        "outputId": "125eacfe-d3b1-44c0-84f1-fb7329597331"
      },
      "execution_count": 112,
      "outputs": [
        {
          "output_type": "display_data",
          "data": {
            "text/plain": [
              "<Figure size 1000x600 with 1 Axes>"
            ],
            "image/png": "[encoded data removed]"
          },
          "metadata": {}
        },
        {
          "output_type": "stream",
          "name": "stdout",
          "text": [
            "\n",
            " Видимі відмінності у вікових групах:\n",
            "Відповідь: Так, частка дітей (вік < 10) вища серед тих, хто вижив. Середній вік (20-40) переважає серед тих, хто не вижив.\n"
          ]
        }
      ]
    },
    {
      "cell_type": "markdown",
      "source": [
        "21. Відсоток виживання для кожної комбінації статі та класу."
      ],
      "metadata": {
        "id": "sJQuL1W0I4M0"
      }
    },
    {
      "cell_type": "code",
      "source": [
        "survival_by_sex_pclass = df_titanic.groupby(['sex', 'pclass'])['survived'].mean() * 100\n",
        "print(\"\\n Відсоток виживання за комбінацією статі та класу:\")\n",
        "print(survival_by_sex_pclass)\n",
        "print(f\"Відповідь: Група з найвищим рівнем виживання:Жінки (1) у 1-му класі ({survival_by_sex_pclass.max():.2f}%).\")"
      ],
      "metadata": {
        "colab": {
          "base_uri": "https://localhost:8080/"
        },
        "id": "5Ie1R3rxI5Ds",
        "outputId": "e5ebaff4-98e4-4312-b263-7d74aa1018b6"
      },
      "execution_count": 113,
      "outputs": [
        {
          "output_type": "stream",
          "name": "stdout",
          "text": [
            "\n",
            " Відсоток виживання за комбінацією статі та класу:\n",
            "sex  pclass\n",
            "0    1         37.815126\n",
            "     2         18.888889\n",
            "     3         16.236162\n",
            "1    1         96.774194\n",
            "     2         91.549296\n",
            "     3         46.774194\n",
            "Name: survived, dtype: float64\n",
            "Відповідь: Група з найвищим рівнем виживання:Жінки (1) у 1-му класі (96.77%).\n"
          ]
        }
      ]
    },
    {
      "cell_type": "markdown",
      "source": [
        "22. Обчисліть кореляцію між усіма числовими змінними."
      ],
      "metadata": {
        "id": "wKeef4nUI8gU"
      }
    },
    {
      "cell_type": "code",
      "source": [
        "correlation_matrix_titanic = df_titanic.corr(numeric_only=True)\n",
        "print(\"\\n Матриця кореляції числових змінних:\")\n",
        "print(correlation_matrix_titanic)\n",
        "print(f\"Відповідь: Змінні, які найбільш сильно корелюють з виживанням: Sex (Стать) та Pclass (Клас пасажира).\")"
      ],
      "metadata": {
        "colab": {
          "base_uri": "https://localhost:8080/"
        },
        "id": "dHkJB6_1I9Xd",
        "outputId": "9e47ab36-3748-4557-eec4-a6ed889a72a5"
      },
      "execution_count": 114,
      "outputs": [
        {
          "output_type": "stream",
          "name": "stdout",
          "text": [
            "\n",
            " Матриця кореляції числових змінних:\n",
            "          survived    pclass       sex       age      fare\n",
            "survived  1.000000 -0.336302  0.509632 -0.082465  0.247346\n",
            "pclass   -0.336302  1.000000 -0.118150 -0.367095 -0.551271\n",
            "sex       0.509632 -0.118150  1.000000 -0.097852  0.171164\n",
            "age      -0.082465 -0.367095 -0.097852  1.000000  0.094470\n",
            "fare      0.247346 -0.551271  0.171164  0.094470  1.000000\n",
            "Відповідь: Змінні, які найбільш сильно корелюють з виживанням: Sex (Стать) та Pclass (Клас пасажира).\n"
          ]
        }
      ]
    },
    {
      "cell_type": "markdown",
      "source": [
        "Висновок:Політику \"спочатку жінки та діти\" та вплив соціального статусу підтверджено аналізом даних \"Титаніка\": стать (жінки) і клас пасажира (Pclass, особливо 1-й) є найсильнішими предикторами виживання."
      ],
      "metadata": {
        "id": "ZIlh5OZ2JEN5"
      }
    }
  ]
}